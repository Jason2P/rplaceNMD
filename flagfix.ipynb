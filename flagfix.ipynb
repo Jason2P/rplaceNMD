import cv2
import numpy as np
f=cv2.imread('https://raw.githubusercontent.com/Jason2P/rplaceNMD/main/rplaceNMD.png')
cv2.imwrite('r1.png', f[1::3,1::3,:])
